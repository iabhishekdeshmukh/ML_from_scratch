{
 "cells": [
  {
   "cell_type": "code",
   "execution_count": 1,
   "metadata": {},
   "outputs": [],
   "source": [
    "import numpy as np"
   ]
  },
  {
   "cell_type": "code",
   "execution_count": 149,
   "metadata": {},
   "outputs": [],
   "source": [
    "data1=np.loadtxt('mnist_small_train_in.txt',delimiter=',')\n",
    "data1=data1.T\n",
    "data3=np.loadtxt('mnist_small_test_in.txt',delimiter=',')\n",
    "data3=data3.T"
   ]
  },
  {
   "cell_type": "code",
   "execution_count": 150,
   "metadata": {},
   "outputs": [
    {
     "data": {
      "text/plain": [
       "(784, 1004)"
      ]
     },
     "execution_count": 150,
     "metadata": {},
     "output_type": "execute_result"
    }
   ],
   "source": [
    "data3.shape"
   ]
  },
  {
   "cell_type": "code",
   "execution_count": 151,
   "metadata": {},
   "outputs": [],
   "source": [
    "data2=np.loadtxt('mnist_small_train_out.txt')\n",
    "data4=np.loadtxt('mnist_small_test_out.txt')"
   ]
  },
  {
   "cell_type": "code",
   "execution_count": 22,
   "metadata": {},
   "outputs": [],
   "source": [
    "y=np.zeros((10,6006))\n",
    "for i in range(0,6006):\n",
    "    temp=int(data2[i])\n",
    "    y[(temp,i)]=1"
   ]
  },
  {
   "cell_type": "code",
   "execution_count": 24,
   "metadata": {},
   "outputs": [],
   "source": [
    "def relu(Z):\n",
    "    return np.maximum(0,Z)"
   ]
  },
  {
   "cell_type": "code",
   "execution_count": 31,
   "metadata": {},
   "outputs": [],
   "source": [
    "def relu_derv(Z):\n",
    "    return Z>0"
   ]
  },
  {
   "cell_type": "code",
   "execution_count": 32,
   "metadata": {},
   "outputs": [],
   "source": [
    "def sigmoid_derv(z):\n",
    "    s = 1. / (1. + np.exp(-z))\n",
    "    return s*(1-s)"
   ]
  },
  {
   "cell_type": "code",
   "execution_count": 30,
   "metadata": {},
   "outputs": [],
   "source": [
    "def sigmoid(z):\n",
    "    s = 1. / (1. + np.exp(-z))\n",
    "    return s"
   ]
  },
  {
   "cell_type": "code",
   "execution_count": 29,
   "metadata": {},
   "outputs": [],
   "source": [
    "def softmax(Z):\n",
    "    return np.exp(Z)/np.sum(np.exp(Z))"
   ]
  },
  {
   "cell_type": "code",
   "execution_count": 186,
   "metadata": {},
   "outputs": [],
   "source": [
    "alpha=0.1\n",
    "w1=np.random.randn(128,784)\n",
    "\n",
    "b1=np.random.randn(128,1)\n",
    "w2=np.random.randn(64,128)\n",
    "b2=np.random.randn(64,1)\n",
    "w3=np.random.randn(10,64)\n",
    "b3=np.random.randn(10,1)"
   ]
  },
  {
   "cell_type": "code",
   "execution_count": 43,
   "metadata": {},
   "outputs": [
    {
     "name": "stdout",
     "output_type": "stream",
     "text": [
      "(128, 784)\n",
      "(784, 6006)\n"
     ]
    }
   ],
   "source": [
    "A0=data1[:,i]\n",
    "print(w1.shape)\n",
    "print(data1.shape)"
   ]
  },
  {
   "cell_type": "code",
   "execution_count": 188,
   "metadata": {},
   "outputs": [],
   "source": [
    "alpha=0.0001"
   ]
  },
  {
   "cell_type": "code",
   "execution_count": 189,
   "metadata": {},
   "outputs": [
    {
     "name": "stdout",
     "output_type": "stream",
     "text": [
      "right 848\n",
      "right 847\n",
      "right 847\n",
      "right 847\n",
      "right 847\n",
      "right 847\n",
      "right 847\n",
      "right 847\n",
      "right 847\n",
      "right 848\n",
      "right 848\n",
      "right 848\n",
      "right 848\n",
      "right 848\n",
      "right 848\n",
      "right 848\n",
      "right 848\n",
      "right 848\n",
      "right 848\n",
      "right 848\n",
      "right 848\n",
      "right 848\n",
      "right 848\n",
      "right 849\n",
      "right 849\n",
      "right 849\n",
      "right 849\n"
     ]
    },
    {
     "ename": "KeyboardInterrupt",
     "evalue": "",
     "output_type": "error",
     "traceback": [
      "\u001b[1;31m---------------------------------------------------------------------------\u001b[0m",
      "\u001b[1;31mKeyboardInterrupt\u001b[0m                         Traceback (most recent call last)",
      "\u001b[1;32m<ipython-input-189-6964eff235ae>\u001b[0m in \u001b[0;36m<module>\u001b[1;34m\u001b[0m\n\u001b[0;32m     12\u001b[0m \u001b[1;33m\u001b[0m\u001b[0m\n\u001b[0;32m     13\u001b[0m             \u001b[0mdz3\u001b[0m\u001b[1;33m=\u001b[0m\u001b[0mA3\u001b[0m\u001b[1;33m-\u001b[0m\u001b[0mnp\u001b[0m\u001b[1;33m.\u001b[0m\u001b[0mreshape\u001b[0m\u001b[1;33m(\u001b[0m\u001b[0my\u001b[0m\u001b[1;33m[\u001b[0m\u001b[1;33m:\u001b[0m\u001b[1;33m,\u001b[0m\u001b[0mi\u001b[0m\u001b[1;33m]\u001b[0m\u001b[1;33m,\u001b[0m\u001b[1;33m(\u001b[0m\u001b[1;36m10\u001b[0m\u001b[1;33m,\u001b[0m\u001b[1;36m1\u001b[0m\u001b[1;33m)\u001b[0m\u001b[1;33m)\u001b[0m\u001b[1;33m\u001b[0m\u001b[1;33m\u001b[0m\u001b[0m\n\u001b[1;32m---> 14\u001b[1;33m             \u001b[0mdw3\u001b[0m\u001b[1;33m=\u001b[0m\u001b[0mnp\u001b[0m\u001b[1;33m.\u001b[0m\u001b[0mdot\u001b[0m\u001b[1;33m(\u001b[0m\u001b[0mdz3\u001b[0m\u001b[1;33m,\u001b[0m\u001b[0mA2\u001b[0m\u001b[1;33m.\u001b[0m\u001b[0mT\u001b[0m\u001b[1;33m)\u001b[0m\u001b[1;33m\u001b[0m\u001b[1;33m\u001b[0m\u001b[0m\n\u001b[0m\u001b[0;32m     15\u001b[0m             \u001b[0mdb3\u001b[0m\u001b[1;33m=\u001b[0m\u001b[0mdz3\u001b[0m\u001b[1;33m\u001b[0m\u001b[1;33m\u001b[0m\u001b[0m\n\u001b[0;32m     16\u001b[0m             \u001b[0mdz2\u001b[0m\u001b[1;33m=\u001b[0m\u001b[0mnp\u001b[0m\u001b[1;33m.\u001b[0m\u001b[0mdot\u001b[0m\u001b[1;33m(\u001b[0m\u001b[0mw3\u001b[0m\u001b[1;33m.\u001b[0m\u001b[0mT\u001b[0m\u001b[1;33m,\u001b[0m\u001b[0mdz3\u001b[0m\u001b[1;33m)\u001b[0m\u001b[1;33m*\u001b[0m\u001b[0msigmoid_derv\u001b[0m\u001b[1;33m(\u001b[0m\u001b[0mZ2\u001b[0m\u001b[1;33m)\u001b[0m\u001b[1;33m\u001b[0m\u001b[1;33m\u001b[0m\u001b[0m\n",
      "\u001b[1;32m<__array_function__ internals>\u001b[0m in \u001b[0;36mdot\u001b[1;34m(*args, **kwargs)\u001b[0m\n",
      "\u001b[1;31mKeyboardInterrupt\u001b[0m: "
     ]
    }
   ],
   "source": [
    "for i1 in range(30):\n",
    "    for i in range(10):\n",
    "        for i in range(6006):\n",
    "            A0=np.reshape(data1[:,i],(784,1))\n",
    "            Z1=np.dot(w1,A0)+b1\n",
    "            A1=sigmoid(Z1)\n",
    "            Z2=np.dot(w2,A1)+b2\n",
    "            A2=sigmoid(Z2)\n",
    "            Z3=np.dot(w3,A2)+b3\n",
    "            A3=softmax(Z3)\n",
    "\n",
    "\n",
    "            dz3=A3-np.reshape(y[:,i],(10,1))\n",
    "            dw3=np.dot(dz3,A2.T)\n",
    "            db3=dz3\n",
    "            dz2=np.dot(w3.T,dz3)*sigmoid_derv(Z2)\n",
    "            dw2=np.dot(dz2,A1.T)\n",
    "            db2=dz2\n",
    "            dz1=np.dot(w2.T,dz2)*sigmoid_derv(Z1)\n",
    "            dw1=np.dot(dz1,A0.T)\n",
    "            db1=dz1\n",
    "\n",
    "            w3=w3-alpha*dw3\n",
    "            w1=w1-alpha*dw1\n",
    "            w2=w2-alpha*dw2\n",
    "\n",
    "            b1=b1-alpha*db1\n",
    "            b2=b2-alpha*db2\n",
    "            b3=b3-alpha*db3\n",
    "\n",
    "    right=0\n",
    "    wrong=0\n",
    "    for i in range(1004):\n",
    "        A0=np.reshape(data3[:,i],(784,1))\n",
    "        Z1=np.dot(w1,A0)+b1\n",
    "        A1=sigmoid(Z1)\n",
    "        Z2=np.dot(w2,A1)+b2\n",
    "        A2=sigmoid(Z2)\n",
    "        Z3=np.dot(w3,A2)+b3\n",
    "        A3=softmax(Z3)\n",
    "        A3=A3.tolist()\n",
    "        detection=A3.index(max(A3))\n",
    "        if data4[i]==detection:\n",
    "            right=right+1\n",
    "        else:\n",
    "            wrong=wrong+1    \n",
    "    print(\"right\",right)\n",
    "    \n",
    "    sum_square_error = 0.0\n",
    "    for i in range(len(A3)):\n",
    "    sum_square_error += (data4[i] - [i])**2.0\n",
    "    mean_square_error = 1.0 / len(actual) * sum_square_error\n",
    "    return mean_square_error\n"
   ]
  },
  {
   "cell_type": "code",
   "execution_count": null,
   "metadata": {},
   "outputs": [],
   "source": [
    "846/1004"
   ]
  },
  {
   "cell_type": "code",
   "execution_count": 177,
   "metadata": {},
   "outputs": [],
   "source": [
    "right=0\n",
    "wrong=0\n",
    "for i in range(1004):\n",
    "    A0=np.reshape(data3[:,i],(784,1))\n",
    "    Z1=np.dot(w1,A0)+b1\n",
    "    A1=sigmoid(Z1)\n",
    "    Z2=np.dot(w2,A1)+b2\n",
    "    A2=sigmoid(Z2)\n",
    "    Z3=np.dot(w3,A2)+b3\n",
    "    A3=softmax(Z3)\n",
    "    A3=A3.tolist()\n",
    "    detection=A3.index(max(A3))\n",
    "    if data4[i]==detection:\n",
    "        right=right+1\n",
    "    else:\n",
    "        wrong=wrong+1"
   ]
  },
  {
   "cell_type": "code",
   "execution_count": 178,
   "metadata": {},
   "outputs": [
    {
     "data": {
      "text/plain": [
       "742"
      ]
     },
     "execution_count": 178,
     "metadata": {},
     "output_type": "execute_result"
    }
   ],
   "source": [
    "right"
   ]
  },
  {
   "cell_type": "code",
   "execution_count": 179,
   "metadata": {},
   "outputs": [
    {
     "data": {
      "text/plain": [
       "262"
      ]
     },
     "execution_count": 179,
     "metadata": {},
     "output_type": "execute_result"
    }
   ],
   "source": [
    "wrong"
   ]
  }
 ],
 "metadata": {
  "kernelspec": {
   "display_name": "Python 3",
   "language": "python",
   "name": "python3"
  },
  "language_info": {
   "codemirror_mode": {
    "name": "ipython",
    "version": 3
   },
   "file_extension": ".py",
   "mimetype": "text/x-python",
   "name": "python",
   "nbconvert_exporter": "python",
   "pygments_lexer": "ipython3",
   "version": "3.7.7"
  }
 },
 "nbformat": 4,
 "nbformat_minor": 4
}
